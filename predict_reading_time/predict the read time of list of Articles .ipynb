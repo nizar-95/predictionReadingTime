{
 "cells": [
  {
   "cell_type": "code",
   "execution_count": 2,
   "id": "1fc2031e",
   "metadata": {},
   "outputs": [],
   "source": [
    "# the Goal is the predict the time of reading each articel based features\n",
    "# 2 new created features and added to the base line\n",
    "# classification on feature \n",
    "# use the Linear Regression to train the model\n",
    "# use RMSE to evaluate the model\n",
    "# at lean test the model"
   ]
  },
  {
   "cell_type": "code",
   "execution_count": 27,
   "id": "868b263a",
   "metadata": {},
   "outputs": [],
   "source": [
    "import pandas as pd\n",
    "import numpy as np\n",
    "\n",
    "import seaborn as sns\n",
    "from matplotlib import pyplot as plt\n",
    "%matplotlib inline"
   ]
  },
  {
   "cell_type": "code",
   "execution_count": 28,
   "id": "64e61d2f",
   "metadata": {},
   "outputs": [
    {
     "data": {
      "text/plain": [
       "2498"
      ]
     },
     "execution_count": 28,
     "metadata": {},
     "output_type": "execute_result"
    }
   ],
   "source": [
    "df = pd.read_csv('medium_data.csv')\n",
    "len(df)"
   ]
  },
  {
   "cell_type": "code",
   "execution_count": 29,
   "id": "ea73d02e",
   "metadata": {},
   "outputs": [],
   "source": [
    "df.columns = df.columns.str.lower().str.replace(' ', '_')\n",
    "\n",
    "string_columns = list(df.dtypes[df.dtypes == 'object'].index)\n",
    "\n",
    "for col in string_columns:\n",
    "    df[col] = df[col].str.lower().str.replace(' ', '_')"
   ]
  },
  {
   "cell_type": "code",
   "execution_count": 30,
   "id": "348aa083",
   "metadata": {},
   "outputs": [
    {
     "data": {
      "text/html": [
       "<div>\n",
       "<style scoped>\n",
       "    .dataframe tbody tr th:only-of-type {\n",
       "        vertical-align: middle;\n",
       "    }\n",
       "\n",
       "    .dataframe tbody tr th {\n",
       "        vertical-align: top;\n",
       "    }\n",
       "\n",
       "    .dataframe thead th {\n",
       "        text-align: right;\n",
       "    }\n",
       "</style>\n",
       "<table border=\"1\" class=\"dataframe\">\n",
       "  <thead>\n",
       "    <tr style=\"text-align: right;\">\n",
       "      <th></th>\n",
       "      <th>id</th>\n",
       "      <th>url</th>\n",
       "      <th>title</th>\n",
       "      <th>subtitle</th>\n",
       "      <th>claps</th>\n",
       "      <th>responses</th>\n",
       "      <th>reading_time</th>\n",
       "      <th>publication</th>\n",
       "      <th>date</th>\n",
       "    </tr>\n",
       "  </thead>\n",
       "  <tbody>\n",
       "    <tr>\n",
       "      <th>0</th>\n",
       "      <td>1</td>\n",
       "      <td>https://towardsdatascience.com/not-all-rainbow...</td>\n",
       "      <td>not_all_rainbows_and_sunshine:_the_darker_side...</td>\n",
       "      <td>part_1:_the_risks_and_ethical issues…</td>\n",
       "      <td>453.0</td>\n",
       "      <td>11</td>\n",
       "      <td>9</td>\n",
       "      <td>towards_data_science</td>\n",
       "      <td>27-01-2023</td>\n",
       "    </tr>\n",
       "    <tr>\n",
       "      <th>1</th>\n",
       "      <td>2</td>\n",
       "      <td>https://towardsdatascience.com/ethics-in-ai-po...</td>\n",
       "      <td>ethics_in_ai:_potential_root_causes_for_biased...</td>\n",
       "      <td>an_alternative_approach_to_understanding_bias_...</td>\n",
       "      <td>311.0</td>\n",
       "      <td>3</td>\n",
       "      <td>12</td>\n",
       "      <td>towards_data_science</td>\n",
       "      <td>27-01-2023</td>\n",
       "    </tr>\n",
       "    <tr>\n",
       "      <th>2</th>\n",
       "      <td>3</td>\n",
       "      <td>https://towardsdatascience.com/python-tuple-th...</td>\n",
       "      <td>python_tuple,_the_whole_truth_and_only_the_tru...</td>\n",
       "      <td>NaN</td>\n",
       "      <td>188.0</td>\n",
       "      <td>0</td>\n",
       "      <td>24</td>\n",
       "      <td>towards_data_science</td>\n",
       "      <td>27-01-2023</td>\n",
       "    </tr>\n",
       "    <tr>\n",
       "      <th>3</th>\n",
       "      <td>4</td>\n",
       "      <td>https://towardsdatascience.com/dates-and-subqu...</td>\n",
       "      <td>dates_and_subqueries_in sql</td>\n",
       "      <td>working_with_dates_in sql</td>\n",
       "      <td>15.0</td>\n",
       "      <td>1</td>\n",
       "      <td>4</td>\n",
       "      <td>towards_data_science</td>\n",
       "      <td>27-01-2023</td>\n",
       "    </tr>\n",
       "    <tr>\n",
       "      <th>4</th>\n",
       "      <td>5</td>\n",
       "      <td>https://towardsdatascience.com/temporal-differ...</td>\n",
       "      <td>temporal_differences_with_python:_first_sample...</td>\n",
       "      <td>NaN</td>\n",
       "      <td>10.0</td>\n",
       "      <td>0</td>\n",
       "      <td>13</td>\n",
       "      <td>towards_data_science</td>\n",
       "      <td>27-01-2023</td>\n",
       "    </tr>\n",
       "  </tbody>\n",
       "</table>\n",
       "</div>"
      ],
      "text/plain": [
       "   id                                                url  \\\n",
       "0   1  https://towardsdatascience.com/not-all-rainbow...   \n",
       "1   2  https://towardsdatascience.com/ethics-in-ai-po...   \n",
       "2   3  https://towardsdatascience.com/python-tuple-th...   \n",
       "3   4  https://towardsdatascience.com/dates-and-subqu...   \n",
       "4   5  https://towardsdatascience.com/temporal-differ...   \n",
       "\n",
       "                                               title  \\\n",
       "0  not_all_rainbows_and_sunshine:_the_darker_side...   \n",
       "1  ethics_in_ai:_potential_root_causes_for_biased...   \n",
       "2  python_tuple,_the_whole_truth_and_only_the_tru...   \n",
       "3                        dates_and_subqueries_in sql   \n",
       "4  temporal_differences_with_python:_first_sample...   \n",
       "\n",
       "                                            subtitle  claps  responses  \\\n",
       "0              part_1:_the_risks_and_ethical issues…  453.0         11   \n",
       "1  an_alternative_approach_to_understanding_bias_...  311.0          3   \n",
       "2                                                NaN  188.0          0   \n",
       "3                          working_with_dates_in sql   15.0          1   \n",
       "4                                                NaN   10.0          0   \n",
       "\n",
       "   reading_time           publication        date  \n",
       "0             9  towards_data_science  27-01-2023  \n",
       "1            12  towards_data_science  27-01-2023  \n",
       "2            24  towards_data_science  27-01-2023  \n",
       "3             4  towards_data_science  27-01-2023  \n",
       "4            13  towards_data_science  27-01-2023  "
      ]
     },
     "execution_count": 30,
     "metadata": {},
     "output_type": "execute_result"
    }
   ],
   "source": [
    "df.head()"
   ]
  },
  {
   "cell_type": "code",
   "execution_count": 72,
   "id": "d99c7479",
   "metadata": {},
   "outputs": [
    {
     "data": {
      "image/png": "[encoded data removed]",
      "text/plain": [
       "<Figure size 432x288 with 1 Axes>"
      ]
     },
     "metadata": {
      "needs_background": "light"
     },
     "output_type": "display_data"
    }
   ],
   "source": [
    "plt.figure(figsize=(6, 4))\n",
    "\n",
    "sns.histplot(df.reading_time, bins=40, color='green', alpha=1)\n",
    "plt.ylabel('Frequency')\n",
    "plt.xlabel('reading time')\n",
    "plt.title('Distribution of reading_time')\n",
    "\n",
    "plt.show()"
   ]
  },
  {
   "cell_type": "code",
   "execution_count": 73,
   "id": "808e93db",
   "metadata": {},
   "outputs": [
    {
     "data": {
      "image/png": "[encoded data removed]",
      "text/plain": [
       "<Figure size 432x288 with 1 Axes>"
      ]
     },
     "metadata": {
      "needs_background": "light"
     },
     "output_type": "display_data"
    }
   ],
   "source": [
    "log_read_time = np.log1p(df.reading_time)\n",
    "\n",
    "plt.figure(figsize=(6, 4))\n",
    "\n",
    "sns.histplot(log_read_time, bins=30, color='green', alpha=1)\n",
    "plt.ylabel('Frequency')\n",
    "plt.xlabel('Log(log_read_time + 1)')\n",
    "plt.title('Distribution of log_read_time after log tranformation')\n",
    "\n",
    "plt.show()"
   ]
  },
  {
   "cell_type": "code",
   "execution_count": 74,
   "id": "e3c07624",
   "metadata": {},
   "outputs": [
    {
     "data": {
      "text/plain": [
       "id                 0\n",
       "url                0\n",
       "title              0\n",
       "subtitle           0\n",
       "claps              0\n",
       "responses          0\n",
       "reading_time       0\n",
       "publication        0\n",
       "date               0\n",
       "title_length       0\n",
       "subtitle_length    0\n",
       "dtype: int64"
      ]
     },
     "execution_count": 74,
     "metadata": {},
     "output_type": "execute_result"
    }
   ],
   "source": [
    "df.isnull().sum()"
   ]
  },
  {
   "cell_type": "code",
   "execution_count": 75,
   "id": "d58efd44",
   "metadata": {},
   "outputs": [],
   "source": [
    "np.random.seed(2)\n",
    "\n",
    "n = len(df)\n",
    "\n",
    "n_val = int(0.2 * n)\n",
    "n_test = int(0.2 * n)\n",
    "n_train = n - (n_val + n_test)\n",
    "\n",
    "idx = np.arange(n)\n",
    "np.random.shuffle(idx)\n",
    "\n",
    "df_shuffled = df.iloc[idx]\n",
    "\n",
    "df_train = df_shuffled.iloc[:n_train].copy()\n",
    "df_val = df_shuffled.iloc[n_train:n_train+n_val].copy()\n",
    "df_test = df_shuffled.iloc[n_train+n_val:].copy()"
   ]
  },
  {
   "cell_type": "code",
   "execution_count": 76,
   "id": "445a688c",
   "metadata": {},
   "outputs": [],
   "source": [
    "y_train_orig = df_train.reading_time.values\n",
    "y_val_orig = df_val.reading_time.values\n",
    "y_test_orig = df_test.reading_time.values\n",
    "\n",
    "y_train = np.log1p(df_train.reading_time.values)\n",
    "y_val = np.log1p(df_val.reading_time.values)\n",
    "y_test = np.log1p(df_test.reading_time.values)"
   ]
  },
  {
   "cell_type": "code",
   "execution_count": 36,
   "id": "a09dfab1",
   "metadata": {},
   "outputs": [],
   "source": [
    "del df_train['reading_time']\n",
    "del df_val['reading_time']\n",
    "del df_test['reading_time']"
   ]
  },
  {
   "cell_type": "code",
   "execution_count": 40,
   "id": "58f7db5c",
   "metadata": {},
   "outputs": [
    {
     "data": {
      "text/plain": [
       "id              0\n",
       "url             0\n",
       "title           0\n",
       "subtitle        0\n",
       "claps           0\n",
       "responses       0\n",
       "reading_time    0\n",
       "publication     0\n",
       "date            0\n",
       "title_length    0\n",
       "dtype: int64"
      ]
     },
     "execution_count": 40,
     "metadata": {},
     "output_type": "execute_result"
    }
   ],
   "source": [
    "df.claps = df.claps.fillna(0).round(0)\n",
    "df.subtitle = df.subtitle.fillna(0)\n",
    "\n",
    "df.isnull().sum()"
   ]
  },
  {
   "cell_type": "code",
   "execution_count": 77,
   "id": "2b1d433c",
   "metadata": {},
   "outputs": [],
   "source": [
    "def train_linear_regression(X, y):\n",
    "    ones = np.ones(X.shape[0])\n",
    "    X = np.column_stack([ones, X])\n",
    "\n",
    "    XTX = X.T.dot(X)\n",
    "    XTX_inv = np.linalg.inv(XTX)\n",
    "    w = XTX_inv.dot(X.T).dot(y)\n",
    "    \n",
    "    return w[0], w[1:]"
   ]
  },
  {
   "cell_type": "code",
   "execution_count": 66,
   "id": "69b58e9c",
   "metadata": {},
   "outputs": [],
   "source": [
    "df['title_length'] = df['title'].apply(lambda x: len(x))"
   ]
  },
  {
   "cell_type": "code",
   "execution_count": 67,
   "id": "421811e6",
   "metadata": {},
   "outputs": [],
   "source": [
    "#  because some values are 0 \n",
    "df['subtitle_length'] = df['subtitle'].apply(lambda x: len(x) if isinstance(x, str) else 0)"
   ]
  },
  {
   "cell_type": "code",
   "execution_count": 68,
   "id": "76fbf64a",
   "metadata": {},
   "outputs": [
    {
     "data": {
      "text/html": [
       "<div>\n",
       "<style scoped>\n",
       "    .dataframe tbody tr th:only-of-type {\n",
       "        vertical-align: middle;\n",
       "    }\n",
       "\n",
       "    .dataframe tbody tr th {\n",
       "        vertical-align: top;\n",
       "    }\n",
       "\n",
       "    .dataframe thead th {\n",
       "        text-align: right;\n",
       "    }\n",
       "</style>\n",
       "<table border=\"1\" class=\"dataframe\">\n",
       "  <thead>\n",
       "    <tr style=\"text-align: right;\">\n",
       "      <th></th>\n",
       "      <th>id</th>\n",
       "      <th>url</th>\n",
       "      <th>title</th>\n",
       "      <th>subtitle</th>\n",
       "      <th>claps</th>\n",
       "      <th>responses</th>\n",
       "      <th>reading_time</th>\n",
       "      <th>publication</th>\n",
       "      <th>date</th>\n",
       "      <th>title_length</th>\n",
       "      <th>subtitle_length</th>\n",
       "    </tr>\n",
       "  </thead>\n",
       "  <tbody>\n",
       "    <tr>\n",
       "      <th>0</th>\n",
       "      <td>1</td>\n",
       "      <td>https://towardsdatascience.com/not-all-rainbow...</td>\n",
       "      <td>not_all_rainbows_and_sunshine:_the_darker_side...</td>\n",
       "      <td>part_1:_the_risks_and_ethical issues…</td>\n",
       "      <td>453.0</td>\n",
       "      <td>11</td>\n",
       "      <td>9</td>\n",
       "      <td>towards_data_science</td>\n",
       "      <td>27-01-2023</td>\n",
       "      <td>57</td>\n",
       "      <td>37</td>\n",
       "    </tr>\n",
       "    <tr>\n",
       "      <th>1</th>\n",
       "      <td>2</td>\n",
       "      <td>https://towardsdatascience.com/ethics-in-ai-po...</td>\n",
       "      <td>ethics_in_ai:_potential_root_causes_for_biased...</td>\n",
       "      <td>an_alternative_approach_to_understanding_bias_...</td>\n",
       "      <td>311.0</td>\n",
       "      <td>3</td>\n",
       "      <td>12</td>\n",
       "      <td>towards_data_science</td>\n",
       "      <td>27-01-2023</td>\n",
       "      <td>57</td>\n",
       "      <td>53</td>\n",
       "    </tr>\n",
       "    <tr>\n",
       "      <th>2</th>\n",
       "      <td>3</td>\n",
       "      <td>https://towardsdatascience.com/python-tuple-th...</td>\n",
       "      <td>python_tuple,_the_whole_truth_and_only_the_tru...</td>\n",
       "      <td>0</td>\n",
       "      <td>188.0</td>\n",
       "      <td>0</td>\n",
       "      <td>24</td>\n",
       "      <td>towards_data_science</td>\n",
       "      <td>27-01-2023</td>\n",
       "      <td>64</td>\n",
       "      <td>0</td>\n",
       "    </tr>\n",
       "    <tr>\n",
       "      <th>3</th>\n",
       "      <td>4</td>\n",
       "      <td>https://towardsdatascience.com/dates-and-subqu...</td>\n",
       "      <td>dates_and_subqueries_in sql</td>\n",
       "      <td>working_with_dates_in sql</td>\n",
       "      <td>15.0</td>\n",
       "      <td>1</td>\n",
       "      <td>4</td>\n",
       "      <td>towards_data_science</td>\n",
       "      <td>27-01-2023</td>\n",
       "      <td>27</td>\n",
       "      <td>25</td>\n",
       "    </tr>\n",
       "    <tr>\n",
       "      <th>4</th>\n",
       "      <td>5</td>\n",
       "      <td>https://towardsdatascience.com/temporal-differ...</td>\n",
       "      <td>temporal_differences_with_python:_first_sample...</td>\n",
       "      <td>0</td>\n",
       "      <td>10.0</td>\n",
       "      <td>0</td>\n",
       "      <td>13</td>\n",
       "      <td>towards_data_science</td>\n",
       "      <td>27-01-2023</td>\n",
       "      <td>85</td>\n",
       "      <td>0</td>\n",
       "    </tr>\n",
       "  </tbody>\n",
       "</table>\n",
       "</div>"
      ],
      "text/plain": [
       "   id                                                url  \\\n",
       "0   1  https://towardsdatascience.com/not-all-rainbow...   \n",
       "1   2  https://towardsdatascience.com/ethics-in-ai-po...   \n",
       "2   3  https://towardsdatascience.com/python-tuple-th...   \n",
       "3   4  https://towardsdatascience.com/dates-and-subqu...   \n",
       "4   5  https://towardsdatascience.com/temporal-differ...   \n",
       "\n",
       "                                               title  \\\n",
       "0  not_all_rainbows_and_sunshine:_the_darker_side...   \n",
       "1  ethics_in_ai:_potential_root_causes_for_biased...   \n",
       "2  python_tuple,_the_whole_truth_and_only_the_tru...   \n",
       "3                        dates_and_subqueries_in sql   \n",
       "4  temporal_differences_with_python:_first_sample...   \n",
       "\n",
       "                                            subtitle  claps  responses  \\\n",
       "0              part_1:_the_risks_and_ethical issues…  453.0         11   \n",
       "1  an_alternative_approach_to_understanding_bias_...  311.0          3   \n",
       "2                                                  0  188.0          0   \n",
       "3                          working_with_dates_in sql   15.0          1   \n",
       "4                                                  0   10.0          0   \n",
       "\n",
       "   reading_time           publication        date  title_length  \\\n",
       "0             9  towards_data_science  27-01-2023            57   \n",
       "1            12  towards_data_science  27-01-2023            57   \n",
       "2            24  towards_data_science  27-01-2023            64   \n",
       "3             4  towards_data_science  27-01-2023            27   \n",
       "4            13  towards_data_science  27-01-2023            85   \n",
       "\n",
       "   subtitle_length  \n",
       "0               37  \n",
       "1               53  \n",
       "2                0  \n",
       "3               25  \n",
       "4                0  "
      ]
     },
     "execution_count": 68,
     "metadata": {},
     "output_type": "execute_result"
    }
   ],
   "source": [
    "df.to_csv('updated_medium_data.csv', index=False)\n",
    "df.head()"
   ]
  },
  {
   "cell_type": "code",
   "execution_count": 78,
   "id": "cab56798",
   "metadata": {},
   "outputs": [],
   "source": [
    "# create the baseline features\n",
    "# base = ['responses','claps','subtitle_length']\n",
    "# base = ['responses','claps','title_length']\n",
    "# base = ['responses','title_length','subtitle_length']\n",
    "base = ['claps','title_length','subtitle_length']\n",
    "# base = ['responses','claps'] # inter : from the grafic seems bas"
   ]
  },
  {
   "cell_type": "code",
   "execution_count": 79,
   "id": "4ce77daa",
   "metadata": {},
   "outputs": [],
   "source": [
    "def prepare_X(df):\n",
    "    df_num = df[base]\n",
    "    df_num = df_num.fillna(0)\n",
    "    X = df_num.values\n",
    "    return X"
   ]
  },
  {
   "cell_type": "code",
   "execution_count": 81,
   "id": "2df6c795",
   "metadata": {},
   "outputs": [],
   "source": [
    "# KeyError: \"['subtitle_length'] not in index\" because of the X = niot updated to the new added features\n",
    "X_train = prepare_X(df_train)\n",
    "w_0, w = train_linear_regression(X_train, y_train)"
   ]
  },
  {
   "cell_type": "code",
   "execution_count": 83,
   "id": "bd53d2df",
   "metadata": {},
   "outputs": [],
   "source": [
    "y_pred = w_0 + X_train.dot(w)"
   ]
  },
  {
   "cell_type": "code",
   "execution_count": 86,
   "id": "49734da4",
   "metadata": {},
   "outputs": [
    {
     "data": {
      "image/png": "[encoded data removed]",
      "text/plain": [
       "<Figure size 432x288 with 1 Axes>"
      ]
     },
     "metadata": {
      "needs_background": "light"
     },
     "output_type": "display_data"
    }
   ],
   "source": [
    "plt.figure(figsize=(6, 4))\n",
    "\n",
    "sns.histplot(y_train, label='target', color='green', alpha=0.6, bins=40)\n",
    "sns.histplot(y_pred, label='prediction', color='yellow', alpha=0.8, bins=40)\n",
    "\n",
    "plt.legend()\n",
    "\n",
    "plt.ylabel('Frequency')\n",
    "plt.xlabel('Log(read time + 1)')\n",
    "plt.title('Predictions vs actual distribution')\n",
    "\n",
    "plt.show()"
   ]
  },
  {
   "cell_type": "code",
   "execution_count": 88,
   "id": "422cdeae",
   "metadata": {},
   "outputs": [],
   "source": [
    "def rmse(y, y_pred):\n",
    "    error = y_pred - y\n",
    "    mse = (error ** 2).mean()\n",
    "    return np.sqrt(mse)"
   ]
  },
  {
   "cell_type": "code",
   "execution_count": 90,
   "id": "152bad0b",
   "metadata": {},
   "outputs": [
    {
     "data": {
      "text/plain": [
       "0.3815073277500142"
      ]
     },
     "execution_count": 90,
     "metadata": {},
     "output_type": "execute_result"
    }
   ],
   "source": [
    "rmse(y_train, y_pred)"
   ]
  },
  {
   "cell_type": "code",
   "execution_count": 92,
   "id": "afa6c94e",
   "metadata": {},
   "outputs": [],
   "source": [
    "X_val = prepare_X(df_val)\n",
    "y_pred = w_0 + X_val.dot(w)"
   ]
  },
  {
   "cell_type": "code",
   "execution_count": 94,
   "id": "44236464",
   "metadata": {},
   "outputs": [
    {
     "data": {
      "text/plain": [
       "0.3603388022074292"
      ]
     },
     "execution_count": 94,
     "metadata": {},
     "output_type": "execute_result"
    }
   ],
   "source": [
    "rmse(y_val, y_pred)"
   ]
  },
  {
   "cell_type": "code",
   "execution_count": 107,
   "id": "ea504b48",
   "metadata": {},
   "outputs": [],
   "source": [
    "# preapre feature\n",
    "def prepare_X(df):\n",
    "    df = df.copy()\n",
    "    features = base.copy()\n",
    "    ###### singular Matrix !!!! #####\n",
    "    #### using the classification we the rmse reduce from 0.36 to 0.32\n",
    "    for v in ['towards_data_science', 'the_startup', 'the_writing_cooperative', 'the_writing_cooperative']:\n",
    "        feature = 'is_publication_%s' % v\n",
    "        df[feature] = (df['publication'] == v).astype(int)\n",
    "        features.append(feature)\n",
    "\n",
    "    df_num = df[features]\n",
    "    df_num = df_num.fillna(0)\n",
    "    X = df_num.values\n",
    "    return X"
   ]
  },
  {
   "cell_type": "code",
   "execution_count": 108,
   "id": "12ea9870",
   "metadata": {},
   "outputs": [
    {
     "name": "stdout",
     "output_type": "stream",
     "text": [
      " 1e-06 0.3230784392395426\n",
      "0.0001 0.3230784065954697\n",
      " 0.001 0.32307811034062556\n",
      "  0.01 0.3230751542716838\n",
      "   0.1 0.3230462411826243\n",
      "     1 0.32281989885400375\n",
      "     5 0.3230016535759132\n",
      "    10 0.3252487229974348\n"
     ]
    }
   ],
   "source": [
    "for r in [0.000001, 0.0001, 0.001, 0.01, 0.1, 1, 5, 10]:\n",
    "    w_0, w = train_linear_regression_reg(X_train, y_train, r=r)\n",
    "    y_pred = w_0 + X_val.dot(w)\n",
    "    print('%6s' %r, rmse(y_val, y_pred))"
   ]
  },
  {
   "cell_type": "code",
   "execution_count": 109,
   "id": "b36ac03c",
   "metadata": {},
   "outputs": [],
   "source": [
    "def train_linear_regression_reg(X, y, r=0.01):\n",
    "    ones = np.ones(X.shape[0])\n",
    "    X = np.column_stack([ones, X])\n",
    "\n",
    "    XTX = X.T.dot(X)\n",
    "    reg = r * np.eye(XTX.shape[0])\n",
    "    XTX = XTX + reg\n",
    "\n",
    "    XTX_inv = np.linalg.inv(XTX)\n",
    "    w = XTX_inv.dot(X.T).dot(y)\n",
    "    \n",
    "    return w[0], w[1:]"
   ]
  },
  {
   "cell_type": "code",
   "execution_count": 111,
   "id": "fc1d43ad",
   "metadata": {},
   "outputs": [],
   "source": [
    "X_train = prepare_X(df_train)\n",
    "X_val = prepare_X(df_val)"
   ]
  },
  {
   "cell_type": "code",
   "execution_count": 112,
   "id": "5f7f9fd5",
   "metadata": {},
   "outputs": [
    {
     "name": "stdout",
     "output_type": "stream",
     "text": [
      "validation: 0.3230751542716838\n",
      "test: 0.3143803584850884\n"
     ]
    }
   ],
   "source": [
    "X_train = prepare_X(df_train)\n",
    "w_0, w = train_linear_regression_reg(X_train, y_train, r=0.01)\n",
    "\n",
    "X_val = prepare_X(df_val)\n",
    "y_pred = w_0 + X_val.dot(w)\n",
    "print('validation:', rmse(y_val, y_pred))\n",
    "\n",
    "X_test = prepare_X(df_test)\n",
    "y_pred = w_0 + X_test.dot(w)\n",
    "print('test:', rmse(y_test, y_pred))"
   ]
  },
  {
   "cell_type": "code",
   "execution_count": 131,
   "id": "48c9d777",
   "metadata": {},
   "outputs": [
    {
     "data": {
      "text/plain": [
       "{'id': 27,\n",
       " 'url': 'https://medium.com/swlh/how-i-balanced-a-side-hustle-with-a-9-5-until-i-quit-for-4-hour-workdays-98a10b9135b7',\n",
       " 'title': 'how_i_balanced_a_side_hustle_with_a_9–5_until_i_quit_for_4-hour\\xa0workdays',\n",
       " 'subtitle': 'here_are_various_tips_for\\xa0you.',\n",
       " 'claps': 658.0,\n",
       " 'responses': 8,\n",
       " 'reading_time': 4,\n",
       " 'publication': 'the_startup',\n",
       " 'date': '04-03-2023',\n",
       " 'title_length': 72,\n",
       " 'subtitle_length': 30}"
      ]
     },
     "execution_count": 131,
     "metadata": {},
     "output_type": "execute_result"
    }
   ],
   "source": [
    "# use the mode fpr the test dataset\n",
    "i = 10\n",
    "ad = df_test.iloc[i].to_dict()\n",
    "ad"
   ]
  },
  {
   "cell_type": "code",
   "execution_count": 133,
   "id": "ccec90ca",
   "metadata": {},
   "outputs": [
    {
     "data": {
      "text/plain": [
       "5.335772683561526"
      ]
     },
     "execution_count": 133,
     "metadata": {},
     "output_type": "execute_result"
    }
   ],
   "source": [
    "X_test = prepare_X(pd.DataFrame([ad]))[0]\n",
    "y_pred = w_0 + X_test.dot(w)\n",
    "suggestion = np.expm1(y_pred)\n",
    "suggestion"
   ]
  },
  {
   "cell_type": "code",
   "execution_count": null,
   "id": "95fcddff",
   "metadata": {},
   "outputs": [],
   "source": [
    "## need to set more features##\n",
    "# the predicted values are not very accurate ##"
   ]
  }
 ],
 "metadata": {
  "kernelspec": {
   "display_name": "Python [conda env:anaconda3]",
   "language": "python",
   "name": "conda-env-anaconda3-py"
  },
  "language_info": {
   "codemirror_mode": {
    "name": "ipython",
    "version": 3
   },
   "file_extension": ".py",
   "mimetype": "text/x-python",
   "name": "python",
   "nbconvert_exporter": "python",
   "pygments_lexer": "ipython3",
   "version": "3.9.7"
  }
 },
 "nbformat": 4,
 "nbformat_minor": 5
}
